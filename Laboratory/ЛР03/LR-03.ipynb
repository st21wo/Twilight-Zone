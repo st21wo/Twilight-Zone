{
 "cells": [
  {
   "cell_type": "code",
   "execution_count": 2,
   "metadata": {},
   "outputs": [],
   "source": [
    "\n",
    "def main():\n",
    "    #создаем алфавит\n",
    "    dict = {\"а\" :1, \"б\" :2 , \"в\" :3 ,\"г\" :4 ,\"д\" :5 ,\"е\" :6 ,\"ё\" :7 ,\"ж\": 8, \"з\": 9, \"и\": 10, \"й\": 11, \"к\": 12, \"л\": 13,\n",
    "            \"м\": 14, \"н\": 15, \"о\": 16, \"п\": 17,\n",
    "            \"р\": 18, \"с\": 19, \"т\": 20, \"у\": 21, \"ф\": 22, \"х\": 23, \"ц\": 24, \"ч\": 25, \"ш\": 26, \"щ\": 27, \"ъ\": 28,\n",
    "            \"ы\": 29, \"ь\": 30, \"э\": 31, \"ю\": 32, \"я\": 32\n",
    "            }\n",
    "    # меняем местами ключ и значение, такой словарь понадобится в будущем\n",
    "    dict2 = {v: k for k, v in dict.items()}\n",
    "    gamma = input(\"Введите гамму(на русском языке! Да и пробелы тоже нельзя! Короче, только символы из dict\").lower()\n",
    "    text = input(\"Введите текст для шифрования\").lower()\n",
    "    listofdigitsoftext = list() #сюда будем записывать числа букв из текста\n",
    "    listofdigitsofgamma = list() #для гаммы\n",
    "    #запишем числа в список\n",
    "    for i in text:\n",
    "        listofdigitsoftext.append(dict[i])\n",
    "    print(\"Числа текста\", listofdigitsoftext)\n",
    "    #то же самое сделаем с гаммой\n",
    "    for i in gamma:\n",
    "        listofdigitsofgamma.append(dict[i])\n",
    "    print(\"числа гаммы\", listofdigitsofgamma)\n",
    "    listofdigitsresult = list() #сюда будем записывать результат\n",
    "    ch = 0\n",
    "    for i in text:\n",
    "        try:\n",
    "            a = dict[i] + listofdigitsofgamma[ch]\n",
    "        except:\n",
    "            ch=0\n",
    "            a = dict[i] + listofdigitsofgamma[ch]\n",
    "        if a>=33:\n",
    "            a = a%33\n",
    "        ch+=1\n",
    "        listofdigitsresult.append(a)\n",
    "    print(\"Числа зашифрованного текста\", listofdigitsresult)\n",
    "    # теперь обратно числа представим в виде букв\n",
    "    textencrypted=\"\"\n",
    "    for i in listofdigitsresult:\n",
    "        textencrypted+=dict2[i]\n",
    "    print(\"Зашифрованный текст: \", textencrypted)\n",
    "    #теперь приступим к реализации алгоритма дешифровки\n",
    "    listofdigits = list()\n",
    "    for i in textencrypted:\n",
    "        listofdigits.append(dict[i])\n",
    "    ch = 0\n",
    "    listofdigits1 = list()\n",
    "    for i in listofdigits:\n",
    "        a = i - listofdigitsofgamma[ch]\n",
    "        #проблемы тут могут быть\n",
    "        if a < 1:\n",
    "            a = 33 + a\n",
    "        listofdigits1.append(a)\n",
    "        ch+=1\n",
    "    textdecrypted = \"\"\n",
    "    for i in listofdigits1:\n",
    "        textdecrypted+=dict2[i]\n",
    "    print(\"Decrypted text\", textdecrypted)"
   ]
  },
  {
   "cell_type": "code",
   "execution_count": 4,
   "metadata": {},
   "outputs": [
    {
     "name": "stdout",
     "output_type": "stream",
     "text": [
      "Введите гамму(на русском языке! Да и пробелы тоже нельзя! Короче, только символы из dictпривет\n",
      "Введите текст для шифрованияпривет\n",
      "Числа текста [17, 18, 10, 3, 6, 20]\n",
      "числа гаммы [17, 18, 10, 3, 6, 20]\n",
      "Числа зашифрованного текста [1, 3, 20, 6, 12, 7]\n",
      "Зашифрованный текст:  автекё\n",
      "Decrypted text привет\n"
     ]
    }
   ],
   "source": [
    "if __name__ == '__main__':\n",
    "    main()"
   ]
  },
  {
   "cell_type": "code",
   "execution_count": null,
   "metadata": {},
   "outputs": [],
   "source": []
  }
 ],
 "metadata": {
  "kernelspec": {
   "display_name": "Python 3",
   "language": "python",
   "name": "python3"
  },
  "language_info": {
   "codemirror_mode": {
    "name": "ipython",
    "version": 3
   },
   "file_extension": ".py",
   "mimetype": "text/x-python",
   "name": "python",
   "nbconvert_exporter": "python",
   "pygments_lexer": "ipython3",
   "version": "3.7.1"
  }
 },
 "nbformat": 4,
 "nbformat_minor": 4
}
